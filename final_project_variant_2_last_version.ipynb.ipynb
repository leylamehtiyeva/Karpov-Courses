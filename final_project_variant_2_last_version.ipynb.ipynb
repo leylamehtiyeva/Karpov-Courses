{
 "cells": [
  {
   "cell_type": "code",
   "execution_count": 2,
   "metadata": {},
   "outputs": [],
   "source": [
    "import pandas as pd\n",
    "import seaborn as sns\n",
    "import matplotlib.pyplot as plt\n",
    "from sklearn.linear_model import LinearRegression\n",
    "from sklearn.metrics import mean_squared_error, r2_score\n",
    "import itertools\n",
    "import numpy as np\n",
    "#from itertools import chain\n",
    "from collections import defaultdict\n",
    "from numpy import unique\n",
    "import pandahouse as ph\n",
    "#from datetime import date\n",
    "import pandas as pd\n",
    "import datetime\n",
    "import time\n",
    "from scipy import stats\n",
    "import statsmodels.api as sm\n"
   ]
  },
  {
   "cell_type": "markdown",
   "metadata": {},
   "source": [
    "# 1-ОЕ ЗАДАНИЕ"
   ]
  },
  {
   "cell_type": "code",
   "execution_count": 2,
   "metadata": {},
   "outputs": [],
   "source": [
    "market = pd.read_csv('https://stepik.org/media/attachments/lesson/409319/test1_completed.csv')"
   ]
  },
  {
   "cell_type": "code",
   "execution_count": 3,
   "metadata": {},
   "outputs": [],
   "source": [
    "market.rename(columns={'Товар' : 'product_name', 'Количество' : 'count_of_product'}, inplace=True)"
   ]
  },
  {
   "cell_type": "markdown",
   "metadata": {},
   "source": [
    "## План работы:\n",
    "1) Сначала перебрать всевозможные пары продуктов для одного пользователя (id)  \n",
    "2) Применить это действие для всех пользователя (id)  \n",
    "3) Объединить эти пары в один датафрейм  \n",
    "4) Создать функцию, которая считает сколько раз встречается конкретная пара продуктов  \n",
    "5) Найти 5 наиболе встречающихся пар  \n"
   ]
  },
  {
   "cell_type": "code",
   "execution_count": null,
   "metadata": {},
   "outputs": [],
   "source": []
  },
  {
   "cell_type": "code",
   "execution_count": null,
   "metadata": {},
   "outputs": [],
   "source": []
  },
  {
   "cell_type": "code",
   "execution_count": 4,
   "metadata": {},
   "outputs": [],
   "source": [
    "def func_id_little(id):\n",
    "    list1 = market[market.id == id].product_name.tolist()\n",
    "    return list1"
   ]
  },
  {
   "cell_type": "markdown",
   "metadata": {},
   "source": [
    "Образуем теперь уникальные пары для каждого уникального id покупателя."
   ]
  },
  {
   "cell_type": "code",
   "execution_count": 5,
   "metadata": {},
   "outputs": [
    {
     "data": {
      "text/plain": [
       "[('Лимон', 'Лимон оранжевый'),\n",
       " ('Лимон', 'Лук-порей'),\n",
       " ('Лимон', 'Лук репчатый'),\n",
       " ('Лимон', 'Малина свежая'),\n",
       " ('Лимон', 'Морковь немытая'),\n",
       " ('Лимон', 'Черешня сушеная'),\n",
       " ('Лимон оранжевый', 'Лук-порей'),\n",
       " ('Лимон оранжевый', 'Лук репчатый'),\n",
       " ('Лимон оранжевый', 'Малина свежая'),\n",
       " ('Лимон оранжевый', 'Морковь немытая'),\n",
       " ('Лимон оранжевый', 'Черешня сушеная'),\n",
       " ('Лук-порей', 'Лук репчатый'),\n",
       " ('Лук-порей', 'Малина свежая'),\n",
       " ('Лук-порей', 'Морковь немытая'),\n",
       " ('Лук-порей', 'Черешня сушеная'),\n",
       " ('Лук репчатый', 'Малина свежая'),\n",
       " ('Лук репчатый', 'Морковь немытая'),\n",
       " ('Лук репчатый', 'Черешня сушеная'),\n",
       " ('Малина свежая', 'Морковь немытая'),\n",
       " ('Малина свежая', 'Черешня сушеная'),\n",
       " ('Морковь немытая', 'Черешня сушеная')]"
      ]
     },
     "execution_count": 5,
     "metadata": {},
     "output_type": "execute_result"
    }
   ],
   "source": [
    "list_finish_1 = [list(itertools.combinations(x, 2)) for x in [func_id_little(x) for x in market.id.unique()]]\n",
    "list_finish_1[0]"
   ]
  },
  {
   "cell_type": "code",
   "execution_count": null,
   "metadata": {},
   "outputs": [],
   "source": []
  },
  {
   "cell_type": "code",
   "execution_count": null,
   "metadata": {},
   "outputs": [],
   "source": []
  },
  {
   "cell_type": "code",
   "execution_count": 6,
   "metadata": {},
   "outputs": [],
   "source": [
    "def table_maker(list_tuple):\n",
    "    '''Разделить каждый кортеж на 2 части и получить два списка.\n",
    "       Входные данные : список с кортежом tuple.\n",
    "       Выходные данные : кортеж со списком первого элемента и со списком второго элемента пары.\n",
    "    '''\n",
    "    list_1 = [x[0] for x in list_tuple]\n",
    "    list_2 = [x[1] for x in list_tuple]\n",
    "    return list_1, list_2"
   ]
  },
  {
   "cell_type": "code",
   "execution_count": null,
   "metadata": {},
   "outputs": [],
   "source": []
  },
  {
   "cell_type": "code",
   "execution_count": null,
   "metadata": {},
   "outputs": [],
   "source": []
  },
  {
   "cell_type": "code",
   "execution_count": 7,
   "metadata": {},
   "outputs": [],
   "source": [
    "def final_table_maker():\n",
    "    '''Получить таблицу из двух столбцов.'''\n",
    "    list_3 = []\n",
    "    list_4 = []\n",
    "    for my_tuple in list_finish_1:\n",
    "        list_3.extend(table_maker(my_tuple)[0])\n",
    "        list_4.extend(table_maker(my_tuple)[1])\n",
    "    table_df = pd.DataFrame({'product_1': list_3, 'product_2': list_4})\n",
    "    return table_df"
   ]
  },
  {
   "cell_type": "code",
   "execution_count": 12,
   "metadata": {},
   "outputs": [
    {
     "data": {
      "text/html": [
       "<div>\n",
       "<style scoped>\n",
       "    .dataframe tbody tr th:only-of-type {\n",
       "        vertical-align: middle;\n",
       "    }\n",
       "\n",
       "    .dataframe tbody tr th {\n",
       "        vertical-align: top;\n",
       "    }\n",
       "\n",
       "    .dataframe thead th {\n",
       "        text-align: right;\n",
       "    }\n",
       "</style>\n",
       "<table border=\"1\" class=\"dataframe\">\n",
       "  <thead>\n",
       "    <tr style=\"text-align: right;\">\n",
       "      <th></th>\n",
       "      <th>product_1</th>\n",
       "      <th>product_2</th>\n",
       "    </tr>\n",
       "  </thead>\n",
       "  <tbody>\n",
       "    <tr>\n",
       "      <th>0</th>\n",
       "      <td>Лимон</td>\n",
       "      <td>Лимон оранжевый</td>\n",
       "    </tr>\n",
       "    <tr>\n",
       "      <th>1</th>\n",
       "      <td>Лимон</td>\n",
       "      <td>Лук-порей</td>\n",
       "    </tr>\n",
       "    <tr>\n",
       "      <th>2</th>\n",
       "      <td>Лимон</td>\n",
       "      <td>Лук репчатый</td>\n",
       "    </tr>\n",
       "    <tr>\n",
       "      <th>3</th>\n",
       "      <td>Лимон</td>\n",
       "      <td>Малина свежая</td>\n",
       "    </tr>\n",
       "    <tr>\n",
       "      <th>4</th>\n",
       "      <td>Лимон</td>\n",
       "      <td>Морковь немытая</td>\n",
       "    </tr>\n",
       "  </tbody>\n",
       "</table>\n",
       "</div>"
      ],
      "text/plain": [
       "  product_1        product_2\n",
       "0     Лимон  Лимон оранжевый\n",
       "1     Лимон        Лук-порей\n",
       "2     Лимон     Лук репчатый\n",
       "3     Лимон    Малина свежая\n",
       "4     Лимон  Морковь немытая"
      ]
     },
     "execution_count": 12,
     "metadata": {},
     "output_type": "execute_result"
    }
   ],
   "source": [
    "united_table = final_table_maker()\n",
    "united_table.head()"
   ]
  },
  {
   "cell_type": "code",
   "execution_count": 10,
   "metadata": {},
   "outputs": [],
   "source": [
    "dictionary = defaultdict(int)  \n",
    "for row in united_table.itertuples(name='ride', index=False):\n",
    "    #  убираем разницу в [a, b] и [b, a]\n",
    "    myList = sorted(list(row)) \n",
    "    #  переводиv словарь в строку, где покупки отделяются запятой\n",
    "    myString = ','.join(map(str, myList)) \n",
    "    #  считаеv кличество покупок\n",
    "    dictionary[myString] += 1  "
   ]
  },
  {
   "cell_type": "code",
   "execution_count": null,
   "metadata": {},
   "outputs": [],
   "source": []
  },
  {
   "cell_type": "code",
   "execution_count": 11,
   "metadata": {},
   "outputs": [
    {
     "data": {
      "text/html": [
       "<div>\n",
       "<style scoped>\n",
       "    .dataframe tbody tr th:only-of-type {\n",
       "        vertical-align: middle;\n",
       "    }\n",
       "\n",
       "    .dataframe tbody tr th {\n",
       "        vertical-align: top;\n",
       "    }\n",
       "\n",
       "    .dataframe thead th {\n",
       "        text-align: right;\n",
       "    }\n",
       "</style>\n",
       "<table border=\"1\" class=\"dataframe\">\n",
       "  <thead>\n",
       "    <tr style=\"text-align: right;\">\n",
       "      <th></th>\n",
       "      <th>product_1</th>\n",
       "      <th>product_2</th>\n",
       "      <th>count</th>\n",
       "    </tr>\n",
       "  </thead>\n",
       "  <tbody>\n",
       "    <tr>\n",
       "      <th>291</th>\n",
       "      <td>Огурцы Луховицкие</td>\n",
       "      <td>Укроп</td>\n",
       "      <td>431</td>\n",
       "    </tr>\n",
       "    <tr>\n",
       "      <th>297</th>\n",
       "      <td>Петрушка</td>\n",
       "      <td>Укроп</td>\n",
       "      <td>408</td>\n",
       "    </tr>\n",
       "    <tr>\n",
       "      <th>3630</th>\n",
       "      <td>Арбуз</td>\n",
       "      <td>Огурцы Луховицкие</td>\n",
       "      <td>345</td>\n",
       "    </tr>\n",
       "    <tr>\n",
       "      <th>855</th>\n",
       "      <td>Кабачки</td>\n",
       "      <td>Огурцы Луховицкие</td>\n",
       "      <td>326</td>\n",
       "    </tr>\n",
       "    <tr>\n",
       "      <th>443</th>\n",
       "      <td>Кинза</td>\n",
       "      <td>Укроп</td>\n",
       "      <td>303</td>\n",
       "    </tr>\n",
       "  </tbody>\n",
       "</table>\n",
       "</div>"
      ],
      "text/plain": [
       "              product_1          product_2  count\n",
       "291   Огурцы Луховицкие              Укроп    431\n",
       "297            Петрушка              Укроп    408\n",
       "3630              Арбуз  Огурцы Луховицкие    345\n",
       "855             Кабачки  Огурцы Луховицкие    326\n",
       "443               Кинза              Укроп    303"
      ]
     },
     "execution_count": 11,
     "metadata": {},
     "output_type": "execute_result"
    }
   ],
   "source": [
    "list_product_1 = [] \n",
    "list_product_2 = []\n",
    "list_count = []\n",
    "for key in dictionary:\n",
    "        dictionary_List = key.split(',')\n",
    "        #  создаем список из первых и вторых покупок\n",
    "        list_product_1.append(dictionary_List[0])  \n",
    "        list_product_2.append(dictionary_List[1]) \n",
    "        list_count.append(dictionary.get(key))  \n",
    "final_table = pd.DataFrame({'product_1': list_product_1, \n",
    "                          'product_2': list_product_2, \n",
    "                          'count': list_count})\n",
    "final_table.sort_values('count', ascending=False).head()"
   ]
  },
  {
   "cell_type": "code",
   "execution_count": null,
   "metadata": {},
   "outputs": [],
   "source": []
  },
  {
   "cell_type": "code",
   "execution_count": null,
   "metadata": {},
   "outputs": [],
   "source": []
  },
  {
   "cell_type": "markdown",
   "metadata": {},
   "source": [
    "# 2-ОЕ ЗАДАНИЕ"
   ]
  },
  {
   "cell_type": "code",
   "execution_count": 19,
   "metadata": {
    "scrolled": true
   },
   "outputs": [
    {
     "data": {
      "text/html": [
       "<div>\n",
       "<style scoped>\n",
       "    .dataframe tbody tr th:only-of-type {\n",
       "        vertical-align: middle;\n",
       "    }\n",
       "\n",
       "    .dataframe tbody tr th {\n",
       "        vertical-align: top;\n",
       "    }\n",
       "\n",
       "    .dataframe thead th {\n",
       "        text-align: right;\n",
       "    }\n",
       "</style>\n",
       "<table border=\"1\" class=\"dataframe\">\n",
       "  <thead>\n",
       "    <tr style=\"text-align: right;\">\n",
       "      <th></th>\n",
       "      <th>Дата</th>\n",
       "      <th>Число заказов</th>\n",
       "    </tr>\n",
       "  </thead>\n",
       "  <tbody>\n",
       "    <tr>\n",
       "      <th>0</th>\n",
       "      <td>2020-01-05</td>\n",
       "      <td>650</td>\n",
       "    </tr>\n",
       "    <tr>\n",
       "      <th>1</th>\n",
       "      <td>2020-01-12</td>\n",
       "      <td>837</td>\n",
       "    </tr>\n",
       "    <tr>\n",
       "      <th>2</th>\n",
       "      <td>2020-01-19</td>\n",
       "      <td>1020</td>\n",
       "    </tr>\n",
       "    <tr>\n",
       "      <th>3</th>\n",
       "      <td>2020-01-26</td>\n",
       "      <td>1176</td>\n",
       "    </tr>\n",
       "    <tr>\n",
       "      <th>4</th>\n",
       "      <td>2020-02-02</td>\n",
       "      <td>1489</td>\n",
       "    </tr>\n",
       "  </tbody>\n",
       "</table>\n",
       "</div>"
      ],
      "text/plain": [
       "         Дата  Число заказов\n",
       "0  2020-01-05            650\n",
       "1  2020-01-12            837\n",
       "2  2020-01-19           1020\n",
       "3  2020-01-26           1176\n",
       "4  2020-02-02           1489"
      ]
     },
     "execution_count": 19,
     "metadata": {},
     "output_type": "execute_result"
    }
   ],
   "source": [
    "df = pd.read_csv(\"https://stepik.org/media/attachments/lesson/426638/test2_completed.csv\")\n",
    "df.head()"
   ]
  },
  {
   "cell_type": "code",
   "execution_count": 20,
   "metadata": {},
   "outputs": [
    {
     "data": {
      "text/plain": [
       "(14, 2)"
      ]
     },
     "execution_count": 20,
     "metadata": {},
     "output_type": "execute_result"
    }
   ],
   "source": [
    "df.shape"
   ]
  },
  {
   "cell_type": "code",
   "execution_count": 21,
   "metadata": {},
   "outputs": [
    {
     "data": {
      "text/plain": [
       "Дата             object\n",
       "Число заказов     int64\n",
       "dtype: object"
      ]
     },
     "execution_count": 21,
     "metadata": {},
     "output_type": "execute_result"
    }
   ],
   "source": [
    "df.dtypes"
   ]
  },
  {
   "cell_type": "markdown",
   "metadata": {},
   "source": [
    "Так как у нас небольшое количество данных, целесообразно воспользоваться простой моделью предсказания.  \n",
    "Для этого воспользуемся регрессионной моделью, а именно методом наименьших квадратов.  \n",
    "Сначала сделаем определенные преобразования."
   ]
  },
  {
   "cell_type": "code",
   "execution_count": 22,
   "metadata": {
    "scrolled": true
   },
   "outputs": [
    {
     "data": {
      "text/html": [
       "<div>\n",
       "<style scoped>\n",
       "    .dataframe tbody tr th:only-of-type {\n",
       "        vertical-align: middle;\n",
       "    }\n",
       "\n",
       "    .dataframe tbody tr th {\n",
       "        vertical-align: top;\n",
       "    }\n",
       "\n",
       "    .dataframe thead th {\n",
       "        text-align: right;\n",
       "    }\n",
       "</style>\n",
       "<table border=\"1\" class=\"dataframe\">\n",
       "  <thead>\n",
       "    <tr style=\"text-align: right;\">\n",
       "      <th></th>\n",
       "      <th>date</th>\n",
       "      <th>orders_count</th>\n",
       "      <th>second</th>\n",
       "    </tr>\n",
       "  </thead>\n",
       "  <tbody>\n",
       "    <tr>\n",
       "      <th>0</th>\n",
       "      <td>2020-01-05</td>\n",
       "      <td>650</td>\n",
       "      <td>1578182400</td>\n",
       "    </tr>\n",
       "    <tr>\n",
       "      <th>1</th>\n",
       "      <td>2020-01-12</td>\n",
       "      <td>837</td>\n",
       "      <td>1578787200</td>\n",
       "    </tr>\n",
       "    <tr>\n",
       "      <th>2</th>\n",
       "      <td>2020-01-19</td>\n",
       "      <td>1020</td>\n",
       "      <td>1579392000</td>\n",
       "    </tr>\n",
       "  </tbody>\n",
       "</table>\n",
       "</div>"
      ],
      "text/plain": [
       "        date  orders_count      second\n",
       "0 2020-01-05           650  1578182400\n",
       "1 2020-01-12           837  1578787200\n",
       "2 2020-01-19          1020  1579392000"
      ]
     },
     "execution_count": 22,
     "metadata": {},
     "output_type": "execute_result"
    }
   ],
   "source": [
    "df = df.rename(columns = {'Дата': 'date', 'Число заказов' : 'orders_count'})\n",
    "df['date'] = pd.to_datetime(df['date'])\n",
    "df['second'] = df[['date']].apply(lambda x: x[0].timestamp(), axis=1).astype(int)\n",
    "df.head(3)"
   ]
  },
  {
   "cell_type": "markdown",
   "metadata": {},
   "source": [
    "Пусть независимой переменной будут недели (секунды), а зависимой - число заказов. Посмотрим на корреляцию между переменными."
   ]
  },
  {
   "cell_type": "code",
   "execution_count": 17,
   "metadata": {
    "scrolled": true
   },
   "outputs": [
    {
     "data": {
      "text/plain": [
       "Text(0, 0.5, 'Число заказов\\n')"
      ]
     },
     "execution_count": 17,
     "metadata": {},
     "output_type": "execute_result"
    },
    {
     "data": {
      "image/png": "[encoded data removed]",
      "text/plain": [
       "<Figure size 720x360 with 1 Axes>"
      ]
     },
     "metadata": {},
     "output_type": "display_data"
    }
   ],
   "source": [
    "sns.set(style='whitegrid', rc={'figure.figsize' : (10,5)}) \n",
    "sns.scatterplot(x = 'second', y = 'orders_count', data = df)\n",
    "sns.regplot(x = 'second', y = 'orders_count', data = df)\n",
    "plt.xlabel('\\nНедели')\n",
    "plt.ylabel('Число заказов\\n')"
   ]
  },
  {
   "cell_type": "markdown",
   "metadata": {},
   "source": [
    "Разделим набор данных на обучающий и тестовый наборы. Обучающим набором будут имеющиеся у нас данные."
   ]
  },
  {
   "cell_type": "code",
   "execution_count": 18,
   "metadata": {},
   "outputs": [],
   "source": [
    "independent_value_X = df.second.values.reshape(-1,1)\n",
    "dependent_value_Y = df['orders_count'].values.reshape(-1,1)"
   ]
  },
  {
   "cell_type": "markdown",
   "metadata": {},
   "source": [
    "Обучение нашей простой модели линейной регрессии на обучающем наборе."
   ]
  },
  {
   "cell_type": "code",
   "execution_count": 19,
   "metadata": {},
   "outputs": [
    {
     "name": "stdout",
     "output_type": "stream",
     "text": [
      "[-645381.00973312] [[0.00040927]] 0.9825538022955228\n"
     ]
    }
   ],
   "source": [
    "regression_model = LinearRegression().fit(independent_value_X, dependent_value_Y)\n",
    "print(regression_model.intercept_ , regression_model.coef_, regression_model.score(independent_value_X, dependent_value_Y))"
   ]
  },
  {
   "cell_type": "markdown",
   "metadata": {},
   "source": [
    "Тестовый набор - недели, которые мы хотим предсказать. В нашем случае это 3 месяца начиная с 2020-04-12."
   ]
  },
  {
   "cell_type": "code",
   "execution_count": 20,
   "metadata": {
    "scrolled": true
   },
   "outputs": [],
   "source": [
    "predict_date = pd.Series(['2020-04-12','2020-04-19','2020-04-26','2020-05-03','2020-05-10','2020-05-17',\n",
    "                          '2020-05-24','2020-05-31','2020-06-07','2020-06-14','2020-06-21','2020-06-28',\n",
    "                         ])\n",
    "week = predict_date"
   ]
  },
  {
   "cell_type": "code",
   "execution_count": 21,
   "metadata": {},
   "outputs": [],
   "source": [
    "predict_date = [int(time.mktime(datetime.datetime.strptime(i , '%Y-%m-%d').timetuple())) for i in predict_date]\n",
    "predict_date = np.array(predict_date).reshape(12,1)"
   ]
  },
  {
   "cell_type": "markdown",
   "metadata": {},
   "source": [
    "Прогнозирование результатов тестового набора"
   ]
  },
  {
   "cell_type": "code",
   "execution_count": 22,
   "metadata": {},
   "outputs": [],
   "source": [
    "X_predict = predict_date \n",
    "y_predict = regression_model.predict(X_predict)"
   ]
  },
  {
   "cell_type": "code",
   "execution_count": 23,
   "metadata": {},
   "outputs": [
    {
     "data": {
      "text/html": [
       "<div>\n",
       "<style scoped>\n",
       "    .dataframe tbody tr th:only-of-type {\n",
       "        vertical-align: middle;\n",
       "    }\n",
       "\n",
       "    .dataframe tbody tr th {\n",
       "        vertical-align: top;\n",
       "    }\n",
       "\n",
       "    .dataframe thead th {\n",
       "        text-align: right;\n",
       "    }\n",
       "</style>\n",
       "<table border=\"1\" class=\"dataframe\">\n",
       "  <thead>\n",
       "    <tr style=\"text-align: right;\">\n",
       "      <th></th>\n",
       "      <th>orders_count</th>\n",
       "      <th>date</th>\n",
       "    </tr>\n",
       "  </thead>\n",
       "  <tbody>\n",
       "    <tr>\n",
       "      <th>0</th>\n",
       "      <td>3981</td>\n",
       "      <td>2020-04-12</td>\n",
       "    </tr>\n",
       "    <tr>\n",
       "      <th>1</th>\n",
       "      <td>4228</td>\n",
       "      <td>2020-04-19</td>\n",
       "    </tr>\n",
       "    <tr>\n",
       "      <th>2</th>\n",
       "      <td>4476</td>\n",
       "      <td>2020-04-26</td>\n",
       "    </tr>\n",
       "    <tr>\n",
       "      <th>3</th>\n",
       "      <td>4723</td>\n",
       "      <td>2020-05-03</td>\n",
       "    </tr>\n",
       "    <tr>\n",
       "      <th>4</th>\n",
       "      <td>4971</td>\n",
       "      <td>2020-05-10</td>\n",
       "    </tr>\n",
       "    <tr>\n",
       "      <th>5</th>\n",
       "      <td>5219</td>\n",
       "      <td>2020-05-17</td>\n",
       "    </tr>\n",
       "    <tr>\n",
       "      <th>6</th>\n",
       "      <td>5466</td>\n",
       "      <td>2020-05-24</td>\n",
       "    </tr>\n",
       "    <tr>\n",
       "      <th>7</th>\n",
       "      <td>5714</td>\n",
       "      <td>2020-05-31</td>\n",
       "    </tr>\n",
       "    <tr>\n",
       "      <th>8</th>\n",
       "      <td>5961</td>\n",
       "      <td>2020-06-07</td>\n",
       "    </tr>\n",
       "    <tr>\n",
       "      <th>9</th>\n",
       "      <td>6209</td>\n",
       "      <td>2020-06-14</td>\n",
       "    </tr>\n",
       "    <tr>\n",
       "      <th>10</th>\n",
       "      <td>6456</td>\n",
       "      <td>2020-06-21</td>\n",
       "    </tr>\n",
       "    <tr>\n",
       "      <th>11</th>\n",
       "      <td>6704</td>\n",
       "      <td>2020-06-28</td>\n",
       "    </tr>\n",
       "  </tbody>\n",
       "</table>\n",
       "</div>"
      ],
      "text/plain": [
       "    orders_count        date\n",
       "0           3981  2020-04-12\n",
       "1           4228  2020-04-19\n",
       "2           4476  2020-04-26\n",
       "3           4723  2020-05-03\n",
       "4           4971  2020-05-10\n",
       "5           5219  2020-05-17\n",
       "6           5466  2020-05-24\n",
       "7           5714  2020-05-31\n",
       "8           5961  2020-06-07\n",
       "9           6209  2020-06-14\n",
       "10          6456  2020-06-21\n",
       "11          6704  2020-06-28"
      ]
     },
     "execution_count": 23,
     "metadata": {},
     "output_type": "execute_result"
    }
   ],
   "source": [
    "df_prediction = pd.DataFrame(data=np.array(y_predict), columns=[\"orders_count\"])\n",
    "df_prediction[\"date\"] = week\n",
    "df_prediction.orders_count = df_prediction.orders_count.apply(round)\n",
    "df_prediction"
   ]
  },
  {
   "cell_type": "code",
   "execution_count": null,
   "metadata": {},
   "outputs": [],
   "source": []
  },
  {
   "cell_type": "code",
   "execution_count": null,
   "metadata": {},
   "outputs": [],
   "source": []
  },
  {
   "cell_type": "code",
   "execution_count": null,
   "metadata": {},
   "outputs": [],
   "source": []
  },
  {
   "cell_type": "markdown",
   "metadata": {},
   "source": [
    "# 3-ЬЕ ЗАДАНИЕ"
   ]
  },
  {
   "cell_type": "code",
   "execution_count": 13,
   "metadata": {},
   "outputs": [],
   "source": [
    "table_3 = pd.read_csv('/home/jupyter-l.mehtieva-11/final_project/my_task_3.csv')"
   ]
  },
  {
   "cell_type": "code",
   "execution_count": 15,
   "metadata": {
    "scrolled": true
   },
   "outputs": [
    {
     "data": {
      "text/html": [
       "<div>\n",
       "<style scoped>\n",
       "    .dataframe tbody tr th:only-of-type {\n",
       "        vertical-align: middle;\n",
       "    }\n",
       "\n",
       "    .dataframe tbody tr th {\n",
       "        vertical-align: top;\n",
       "    }\n",
       "\n",
       "    .dataframe thead th {\n",
       "        text-align: right;\n",
       "    }\n",
       "</style>\n",
       "<table border=\"1\" class=\"dataframe\">\n",
       "  <thead>\n",
       "    <tr style=\"text-align: right;\">\n",
       "      <th></th>\n",
       "      <th>purchase_id</th>\n",
       "      <th>client_id</th>\n",
       "      <th>purchase_date</th>\n",
       "      <th>quantity</th>\n",
       "      <th>revenue</th>\n",
       "      <th>client_category</th>\n",
       "      <th>client_age</th>\n",
       "      <th>client_registration_age</th>\n",
       "      <th>promotion_name</th>\n",
       "      <th>category_name</th>\n",
       "      <th>partner_name</th>\n",
       "      <th>client_city</th>\n",
       "      <th>city</th>\n",
       "    </tr>\n",
       "  </thead>\n",
       "  <tbody>\n",
       "    <tr>\n",
       "      <th>0</th>\n",
       "      <td>3</td>\n",
       "      <td>124</td>\n",
       "      <td>10/10/20</td>\n",
       "      <td>3</td>\n",
       "      <td>930</td>\n",
       "      <td>new</td>\n",
       "      <td>30</td>\n",
       "      <td>935</td>\n",
       "      <td>campaign_2</td>\n",
       "      <td>Фрукты</td>\n",
       "      <td>ООО Ширяева, Хохлова и Тимофеева</td>\n",
       "      <td>Минск</td>\n",
       "      <td>Новгород</td>\n",
       "    </tr>\n",
       "    <tr>\n",
       "      <th>1</th>\n",
       "      <td>7</td>\n",
       "      <td>641</td>\n",
       "      <td>06/04/20</td>\n",
       "      <td>3</td>\n",
       "      <td>435</td>\n",
       "      <td>new</td>\n",
       "      <td>28</td>\n",
       "      <td>691</td>\n",
       "      <td>campaign_2</td>\n",
       "      <td>Фрукты</td>\n",
       "      <td>ООО Ширяева, Хохлова и Тимофеева</td>\n",
       "      <td>Щучинщина</td>\n",
       "      <td>Киев</td>\n",
       "    </tr>\n",
       "    <tr>\n",
       "      <th>2</th>\n",
       "      <td>11</td>\n",
       "      <td>896</td>\n",
       "      <td>24/03/20</td>\n",
       "      <td>7</td>\n",
       "      <td>2310</td>\n",
       "      <td>new</td>\n",
       "      <td>28</td>\n",
       "      <td>841</td>\n",
       "      <td>campaign_3</td>\n",
       "      <td>Овощи</td>\n",
       "      <td>Всем партнёрам партнёр</td>\n",
       "      <td>Вена</td>\n",
       "      <td>Казань</td>\n",
       "    </tr>\n",
       "    <tr>\n",
       "      <th>3</th>\n",
       "      <td>12</td>\n",
       "      <td>99</td>\n",
       "      <td>22/09/20</td>\n",
       "      <td>8</td>\n",
       "      <td>2320</td>\n",
       "      <td>new</td>\n",
       "      <td>28</td>\n",
       "      <td>560</td>\n",
       "      <td>campaign_3</td>\n",
       "      <td>Овощи</td>\n",
       "      <td>Всем партнёрам партнёр</td>\n",
       "      <td>Вена</td>\n",
       "      <td>Казань</td>\n",
       "    </tr>\n",
       "    <tr>\n",
       "      <th>4</th>\n",
       "      <td>14</td>\n",
       "      <td>52</td>\n",
       "      <td>30/09/20</td>\n",
       "      <td>7</td>\n",
       "      <td>3325</td>\n",
       "      <td>new</td>\n",
       "      <td>30</td>\n",
       "      <td>999</td>\n",
       "      <td>campaign_2</td>\n",
       "      <td>Фрукты</td>\n",
       "      <td>ООО Ширяева, Хохлова и Тимофеева</td>\n",
       "      <td>Вена</td>\n",
       "      <td>Москва</td>\n",
       "    </tr>\n",
       "    <tr>\n",
       "      <th>5</th>\n",
       "      <td>21</td>\n",
       "      <td>349</td>\n",
       "      <td>25/10/20</td>\n",
       "      <td>5</td>\n",
       "      <td>2425</td>\n",
       "      <td>new</td>\n",
       "      <td>25</td>\n",
       "      <td>848</td>\n",
       "      <td>campaign_4</td>\n",
       "      <td>Прочее</td>\n",
       "      <td>KarpovCourses</td>\n",
       "      <td>Санкт-Петербург</td>\n",
       "      <td>Щучинщина</td>\n",
       "    </tr>\n",
       "    <tr>\n",
       "      <th>6</th>\n",
       "      <td>23</td>\n",
       "      <td>275</td>\n",
       "      <td>10/10/20</td>\n",
       "      <td>6</td>\n",
       "      <td>660</td>\n",
       "      <td>new</td>\n",
       "      <td>30</td>\n",
       "      <td>513</td>\n",
       "      <td>campaign_2</td>\n",
       "      <td>Фрукты</td>\n",
       "      <td>ООО Ширяева, Хохлова и Тимофеева</td>\n",
       "      <td>Вена</td>\n",
       "      <td>Казань</td>\n",
       "    </tr>\n",
       "    <tr>\n",
       "      <th>7</th>\n",
       "      <td>26</td>\n",
       "      <td>10</td>\n",
       "      <td>18/05/20</td>\n",
       "      <td>2</td>\n",
       "      <td>570</td>\n",
       "      <td>new</td>\n",
       "      <td>21</td>\n",
       "      <td>693</td>\n",
       "      <td>campaign_4</td>\n",
       "      <td>Прочее</td>\n",
       "      <td>KarpovCourses</td>\n",
       "      <td>Ярославль</td>\n",
       "      <td>Санкт-Петербург</td>\n",
       "    </tr>\n",
       "    <tr>\n",
       "      <th>8</th>\n",
       "      <td>34</td>\n",
       "      <td>747</td>\n",
       "      <td>30/03/20</td>\n",
       "      <td>2</td>\n",
       "      <td>980</td>\n",
       "      <td>new</td>\n",
       "      <td>25</td>\n",
       "      <td>554</td>\n",
       "      <td>campaign_1</td>\n",
       "      <td>Бакалея</td>\n",
       "      <td>Google</td>\n",
       "      <td>Санкт-Петербург</td>\n",
       "      <td>Минск</td>\n",
       "    </tr>\n",
       "    <tr>\n",
       "      <th>9</th>\n",
       "      <td>35</td>\n",
       "      <td>379</td>\n",
       "      <td>24/08/20</td>\n",
       "      <td>5</td>\n",
       "      <td>1900</td>\n",
       "      <td>new</td>\n",
       "      <td>28</td>\n",
       "      <td>884</td>\n",
       "      <td>campaign_1</td>\n",
       "      <td>Бакалея</td>\n",
       "      <td>Google</td>\n",
       "      <td>Санкт-Петербург</td>\n",
       "      <td>Минск</td>\n",
       "    </tr>\n",
       "    <tr>\n",
       "      <th>10</th>\n",
       "      <td>47</td>\n",
       "      <td>945</td>\n",
       "      <td>17/05/20</td>\n",
       "      <td>4</td>\n",
       "      <td>680</td>\n",
       "      <td>new</td>\n",
       "      <td>24</td>\n",
       "      <td>736</td>\n",
       "      <td>campaign_3</td>\n",
       "      <td>Овощи</td>\n",
       "      <td>Всем партнёрам партнёр</td>\n",
       "      <td>Вена</td>\n",
       "      <td>Казань</td>\n",
       "    </tr>\n",
       "    <tr>\n",
       "      <th>11</th>\n",
       "      <td>54</td>\n",
       "      <td>735</td>\n",
       "      <td>29/04/20</td>\n",
       "      <td>1</td>\n",
       "      <td>160</td>\n",
       "      <td>old</td>\n",
       "      <td>26</td>\n",
       "      <td>627</td>\n",
       "      <td>campaign_4</td>\n",
       "      <td>Прочее</td>\n",
       "      <td>KarpovCourses</td>\n",
       "      <td>Санкт-Петербург</td>\n",
       "      <td>Щучинщина</td>\n",
       "    </tr>\n",
       "    <tr>\n",
       "      <th>12</th>\n",
       "      <td>55</td>\n",
       "      <td>108</td>\n",
       "      <td>07/06/20</td>\n",
       "      <td>4</td>\n",
       "      <td>1480</td>\n",
       "      <td>new</td>\n",
       "      <td>21</td>\n",
       "      <td>1060</td>\n",
       "      <td>campaign_4</td>\n",
       "      <td>Прочее</td>\n",
       "      <td>KarpovCourses</td>\n",
       "      <td>Вена</td>\n",
       "      <td>Казань</td>\n",
       "    </tr>\n",
       "    <tr>\n",
       "      <th>13</th>\n",
       "      <td>56</td>\n",
       "      <td>21</td>\n",
       "      <td>04/06/20</td>\n",
       "      <td>3</td>\n",
       "      <td>345</td>\n",
       "      <td>new</td>\n",
       "      <td>23</td>\n",
       "      <td>627</td>\n",
       "      <td>campaign_4</td>\n",
       "      <td>Прочее</td>\n",
       "      <td>KarpovCourses</td>\n",
       "      <td>Ярославль</td>\n",
       "      <td>Санкт-Петербург</td>\n",
       "    </tr>\n",
       "    <tr>\n",
       "      <th>14</th>\n",
       "      <td>59</td>\n",
       "      <td>122</td>\n",
       "      <td>13/03/20</td>\n",
       "      <td>3</td>\n",
       "      <td>1080</td>\n",
       "      <td>new</td>\n",
       "      <td>25</td>\n",
       "      <td>980</td>\n",
       "      <td>campaign_3</td>\n",
       "      <td>Овощи</td>\n",
       "      <td>Всем партнёрам партнёр</td>\n",
       "      <td>Минск</td>\n",
       "      <td>Новгород</td>\n",
       "    </tr>\n",
       "  </tbody>\n",
       "</table>\n",
       "</div>"
      ],
      "text/plain": [
       "    purchase_id  client_id purchase_date  quantity  revenue client_category  \\\n",
       "0             3        124      10/10/20         3      930             new   \n",
       "1             7        641      06/04/20         3      435             new   \n",
       "2            11        896      24/03/20         7     2310             new   \n",
       "3            12         99      22/09/20         8     2320             new   \n",
       "4            14         52      30/09/20         7     3325             new   \n",
       "5            21        349      25/10/20         5     2425             new   \n",
       "6            23        275      10/10/20         6      660             new   \n",
       "7            26         10      18/05/20         2      570             new   \n",
       "8            34        747      30/03/20         2      980             new   \n",
       "9            35        379      24/08/20         5     1900             new   \n",
       "10           47        945      17/05/20         4      680             new   \n",
       "11           54        735      29/04/20         1      160             old   \n",
       "12           55        108      07/06/20         4     1480             new   \n",
       "13           56         21      04/06/20         3      345             new   \n",
       "14           59        122      13/03/20         3     1080             new   \n",
       "\n",
       "    client_age  client_registration_age promotion_name category_name  \\\n",
       "0           30                      935     campaign_2        Фрукты   \n",
       "1           28                      691     campaign_2        Фрукты   \n",
       "2           28                      841     campaign_3         Овощи   \n",
       "3           28                      560     campaign_3         Овощи   \n",
       "4           30                      999     campaign_2        Фрукты   \n",
       "5           25                      848     campaign_4        Прочее   \n",
       "6           30                      513     campaign_2        Фрукты   \n",
       "7           21                      693     campaign_4        Прочее   \n",
       "8           25                      554     campaign_1       Бакалея   \n",
       "9           28                      884     campaign_1       Бакалея   \n",
       "10          24                      736     campaign_3         Овощи   \n",
       "11          26                      627     campaign_4        Прочее   \n",
       "12          21                     1060     campaign_4        Прочее   \n",
       "13          23                      627     campaign_4        Прочее   \n",
       "14          25                      980     campaign_3         Овощи   \n",
       "\n",
       "                        partner_name      client_city             city  \n",
       "0   ООО Ширяева, Хохлова и Тимофеева            Минск         Новгород  \n",
       "1   ООО Ширяева, Хохлова и Тимофеева        Щучинщина             Киев  \n",
       "2             Всем партнёрам партнёр             Вена           Казань  \n",
       "3             Всем партнёрам партнёр             Вена           Казань  \n",
       "4   ООО Ширяева, Хохлова и Тимофеева             Вена           Москва  \n",
       "5                      KarpovCourses  Санкт-Петербург        Щучинщина  \n",
       "6   ООО Ширяева, Хохлова и Тимофеева             Вена           Казань  \n",
       "7                      KarpovCourses        Ярославль  Санкт-Петербург  \n",
       "8                             Google  Санкт-Петербург            Минск  \n",
       "9                             Google  Санкт-Петербург            Минск  \n",
       "10            Всем партнёрам партнёр             Вена           Казань  \n",
       "11                     KarpovCourses  Санкт-Петербург        Щучинщина  \n",
       "12                     KarpovCourses             Вена           Казань  \n",
       "13                     KarpovCourses        Ярославль  Санкт-Петербург  \n",
       "14            Всем партнёрам партнёр            Минск         Новгород  "
      ]
     },
     "execution_count": 15,
     "metadata": {},
     "output_type": "execute_result"
    }
   ],
   "source": [
    "table_3.head(15)"
   ]
  },
  {
   "cell_type": "markdown",
   "metadata": {},
   "source": [
    "Оставляю код для проверки. Работала в REDASH"
   ]
  },
  {
   "cell_type": "markdown",
   "metadata": {},
   "source": [
    "'''\n",
    "\n",
    "SELECT     a.purchase_id AS purchase_id,  \n",
    "           a.client_id AS client_id,  \n",
    "           a.purchase_date AS purchase_date,   \n",
    "           CAST(a.quantity AS Int64) AS quantity,  \n",
    "           CAST(a.revenue AS Int64) AS revenue,  \n",
    "           a.client_category AS client_category,  \n",
    "           CAST(b.client_age AS Int64) AS client_age,  \n",
    "           CAST(b.client_registration AS Int64) client_registration_age, /* в днях */  \n",
    "           c.promotion_name AS promotion_name,  \n",
    "           c.category_name AS category_name,  \n",
    "           c.partner_name AS partner_name,  \n",
    "           d.client_city AS client_city,  \n",
    "           d.city AS city  \n",
    "    FROM  (            \n",
    "                SELECT l.purchase_id AS purchase_id,  \n",
    "                       l.client_id AS client_id,  \n",
    "                       l.city_id AS city_id,  \n",
    "                       l.purchase_date AS purchase_date,   \n",
    "                       l.category_id AS category_id,  \n",
    "                       l.quantity AS quantity,  \n",
    "                       l.revenue AS revenue,  \n",
    "                       r.client_category AS client_category  \n",
    "                       \n",
    "                FROM   (      \n",
    "                \n",
    "                        SELECT purchase_id,  \n",
    "                               client_id,  \n",
    "                               city_id,  \n",
    "                               promotion_id,  \n",
    "                               purchase_date, \n",
    "                               category_id,\n",
    "                               quantity,\n",
    "                               price*quantity AS revenue\n",
    "                        FROM project_variant_2.purchase\n",
    "                        WHERE    (purchase_date >= '01.05.2020'\n",
    "                                   OR\n",
    "                                  purchase_date <= '01.08.2020')\n",
    "                                   AND\n",
    "                                 (status == 1)\n",
    "                                   AND \n",
    "                                ((promotion_id == partner_id) and (category_id == partner_id))\n",
    "                        ) AS l\n",
    "        RIGHT outer JOIN    (\n",
    "            SELECT client_id,\n",
    "                   purchase_id,\n",
    "                   CASE WHEN count_purch == 1\n",
    "                     THEN 'new'\n",
    "                     ELSE  'old' \n",
    "                   END as client_category\n",
    "            FROM \n",
    "                    (\n",
    "                    SELECT client_id,\n",
    "                    purchase_id,\n",
    "                    COUNT(purchase_id) OVER (PARTITION BY client_id ORDER BY purchase_id) AS count_purch\n",
    "                    FROM project_variant_2.purchase\n",
    "                    WHERE (purchase_date >= '01.05.2020'\n",
    "                                    OR\n",
    "                           purchase_date <= '01.08.2020')\n",
    "                                    AND\n",
    "                            (status == 1))\n",
    "                        ) AS r\n",
    "                ON l.purchase_id = r.purchase_id\n",
    "                ) AS a\n",
    "JOIN    (  \n",
    "        SELECT *,  \n",
    "           CASE WHEN formatDateTime(now(), '%m-%d') < formatDateTime(birth_date, '%m-%d')  \n",
    "                THEN (YEAR(now()) - YEAR(birth_date)) - 1  \n",
    "                ELSE  YEAR(now()) - YEAR(birth_date)  \n",
    "           END as client_age,  \n",
    "           \n",
    "           DateDiff(Day,registration,now()) as client_registration /* будем считать, что клиент начал пользоваться магазином,   когда зарегестрировался */  \n",
    "           \n",
    "        FROM project_variant_2.client  \n",
    "        ) AS b  \n",
    "    ON a.client_id = b.client_id  \n",
    "JOIN project_variant_2.promotion AS c  \n",
    "    ON a.category_id = c.category_id  \n",
    "LEFT SEMI JOIN project_variant_2.city AS d  \n",
    "    ON a.city_id = d.city_id  \n",
    "\n",
    "'''"
   ]
  },
  {
   "cell_type": "code",
   "execution_count": null,
   "metadata": {},
   "outputs": [],
   "source": []
  }
 ],
 "metadata": {
  "kernelspec": {
   "display_name": "Python 3",
   "language": "python",
   "name": "python3"
  },
  "language_info": {
   "codemirror_mode": {
    "name": "ipython",
    "version": 3
   },
   "file_extension": ".py",
   "mimetype": "text/x-python",
   "name": "python",
   "nbconvert_exporter": "python",
   "pygments_lexer": "ipython3",
   "version": "3.7.3"
  }
 },
 "nbformat": 4,
 "nbformat_minor": 4
}
