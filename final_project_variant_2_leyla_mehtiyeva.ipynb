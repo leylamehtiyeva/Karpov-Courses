{
 "cells": [
  {
   "cell_type": "code",
   "execution_count": null,
   "metadata": {},
   "outputs": [],
   "source": [
    "import pandas as pd\n",
    "import itertools\n",
    "import numpy as np\n",
    "from itertools import chain\n",
    "from collections import defaultdict\n",
    "from numpy import unique\n",
    "import pandahouse as ph\n",
    "from datetime import date\n",
    "import holidays\n",
    "from fbprophet import Prophet\n"
   ]
  },
  {
   "cell_type": "markdown",
   "metadata": {},
   "source": [
    "# 1-ОЕ ЗАДАНИЕ"
   ]
  },
  {
   "cell_type": "code",
   "execution_count": null,
   "metadata": {},
   "outputs": [],
   "source": [
    "market = pd.read_csv('https://stepik.org/media/attachments/lesson/409319/test1_completed.csv')"
   ]
  },
  {
   "cell_type": "code",
   "execution_count": null,
   "metadata": {},
   "outputs": [],
   "source": [
    "market.rename(columns = {'Товар':'product_name', 'Количество':'count_of_product'}, inplace = True)"
   ]
  },
  {
   "cell_type": "markdown",
   "metadata": {},
   "source": [
    "## План работы:\n",
    "1) Сначала перебрать всевозможные пары продуктов для одного пользователя (id)  \n",
    "2) Применить это действие для всех пользователя (id)  \n",
    "3) Объединить эти пары в один датафрейм  \n",
    "4) Создать функцию, которая считает сколько раз встречается конкретная пара продуктов  \n",
    "5) Найти 5 наиболе встречающихся пар  \n"
   ]
  },
  {
   "cell_type": "code",
   "execution_count": null,
   "metadata": {},
   "outputs": [],
   "source": [
    "'''Функция, которая превращает все продукты каждого пользователя в список\n",
    "Входные данные: id клиента\n",
    "Выходные данные: список покупок в виде list\n",
    "'''\n",
    "def func_id_little(id):\n",
    "    list1 = market[market.id == id].product_name.tolist()\n",
    "    return list1"
   ]
  },
  {
   "cell_type": "code",
   "execution_count": null,
   "metadata": {},
   "outputs": [],
   "source": [
    "'''Функция, которая превращает все продукты каждого пользователя в список списков, внутри которых кортежи с уникальными парами\n",
    "Входные данные: id клиента\n",
    "Выходные данные: кортежи уникальных пар\n",
    "'''\n",
    "list_finish_1 = [list(itertools.combinations(x, 2)) for x in [func_id_little(x) for x in market.id]]"
   ]
  },
  {
   "cell_type": "code",
   "execution_count": null,
   "metadata": {},
   "outputs": [],
   "source": [
    "'''Функция, которая делит список с кортежом tuple на списки с первыми элементами пар каждого id\n",
    "Входные данные: список с кортежом tuple \n",
    "Выходные данные: кортеж со списком первого элемента и со списком второго элемента пары\n",
    "'''\n",
    "def table_maker(list_tuple):\n",
    "    list_1 = [x[0] for x in list_tuple]\n",
    "    list_2 = [x[1] for x in list_tuple]\n",
    "    return list_1, list_2"
   ]
  },
  {
   "cell_type": "code",
   "execution_count": null,
   "metadata": {},
   "outputs": [],
   "source": [
    "'''Функция образует результирующую таблицу со всеми уникальными парами всех покупателей\n",
    "Входные данные:  \n",
    "Выходные данные: таблица со всеи уникальными парами\n",
    "'''\n",
    "def final_table_maker():\n",
    "    list_3 = []\n",
    "    list_4 = []\n",
    "    for my_tuple in list_finish_1:\n",
    "        list_3.extend(table_maker(my_tuple)[0])\n",
    "        list_4.extend(table_maker(my_tuple)[1])\n",
    "    table_df = pd.DataFrame({'product_1': list_3, 'product_2': list_4})\n",
    "    return table_df"
   ]
  },
  {
   "cell_type": "code",
   "execution_count": null,
   "metadata": {},
   "outputs": [],
   "source": [
    "%%time\n",
    "united_table = final_table_maker()"
   ]
  },
  {
   "cell_type": "code",
   "execution_count": null,
   "metadata": {},
   "outputs": [],
   "source": [
    "united_table.head()"
   ]
  },
  {
   "cell_type": "code",
   "execution_count": null,
   "metadata": {},
   "outputs": [],
   "source": [
    "dictionary = defaultdict(int) #специальная структура словаря\n",
    "def itertuples_func(df):\n",
    "    for row in df.itertuples(name='ride', index = False):\n",
    "        myList = unique(list(row)) #преобразует каждую строку в список и оставляет только ункальные значения списка, чтобы не было разницы в [1, a] и [a, 1]\n",
    "        myString = ','.join(map(str, myList)) #переводит словарь в строку, где покупки отделяются запятой \n",
    "        dictionary[myString] += 1 #считает кличество покупок\n",
    "    return dictionary"
   ]
  },
  {
   "cell_type": "code",
   "execution_count": null,
   "metadata": {
    "scrolled": true
   },
   "outputs": [],
   "source": [
    "%%time\n",
    "itertuples_func(united_table)"
   ]
  },
  {
   "cell_type": "code",
   "execution_count": null,
   "metadata": {},
   "outputs": [],
   "source": [
    "'''Функция преобразует получившийся словарь в датафрейм (финальную таблицу)\n",
    "Входные данные: словарь\n",
    "Выходные данные: финальная таблица\n",
    "'''\n",
    "\n",
    "def result_table(dictionary):\n",
    "    list_product_1 = [] #создаем пустые словари\n",
    "    list_product_2 = []\n",
    "    list_count = []\n",
    "    for key in dictionary:\n",
    "            dictionary_List = key.split(',') #превращаем обратно строку в список\n",
    "            list_product_1.append(dictionary_List[0]) # создаем список из первых покупок\n",
    "            list_product_2.append(dictionary_List[1]) # список из вторых покупок\n",
    "            list_count.append(dictionary.get(key)) # список из количества повторов\n",
    "    df4_Final = pd.DataFrame({'product_1': list_product_1, \n",
    "                              'product_2': list_product_2, \n",
    "                              'count': list_count})\n",
    "    return df4_Final"
   ]
  },
  {
   "cell_type": "code",
   "execution_count": null,
   "metadata": {},
   "outputs": [],
   "source": [
    "final_table = result_table(dictionary)"
   ]
  },
  {
   "cell_type": "code",
   "execution_count": null,
   "metadata": {
    "scrolled": false
   },
   "outputs": [],
   "source": [
    "final_table.sort_values('count', ascending=False).head()"
   ]
  },
  {
   "cell_type": "code",
   "execution_count": null,
   "metadata": {},
   "outputs": [],
   "source": []
  },
  {
   "cell_type": "code",
   "execution_count": null,
   "metadata": {},
   "outputs": [],
   "source": []
  },
  {
   "cell_type": "markdown",
   "metadata": {},
   "source": [
    "# 2-ОЕ ЗАДАНИЕ"
   ]
  },
  {
   "cell_type": "code",
   "execution_count": null,
   "metadata": {},
   "outputs": [],
   "source": [
    "df = pd.read_csv('https://stepik.org/media/attachments/lesson/426638/test2_completed.csv')"
   ]
  },
  {
   "cell_type": "code",
   "execution_count": null,
   "metadata": {
    "scrolled": true
   },
   "outputs": [],
   "source": [
    "df.head()"
   ]
  },
  {
   "cell_type": "code",
   "execution_count": null,
   "metadata": {
    "scrolled": true
   },
   "outputs": [],
   "source": [
    "df.plot()"
   ]
  },
  {
   "cell_type": "code",
   "execution_count": null,
   "metadata": {},
   "outputs": [],
   "source": [
    "df = df.rename(columns= {'Дата': 'ds', 'Число заказов': 'y'})"
   ]
  },
  {
   "cell_type": "code",
   "execution_count": null,
   "metadata": {},
   "outputs": [],
   "source": [
    "skidki = pd.DataFrame({'holiday': 'skidki', 'ds': pd.to_datetime(['2020-02-02', '2020-02-09']),\n",
    "                       'lower_window' : 0, 'upper_window' : 7 })\n",
    "holidays_dict = holidays.RU(years=(2020, 2021))\n",
    "df_holidays = pd.DataFrame.from_dict(holidays_dict, orient='index') \\\n",
    "    .reset_index()\n",
    "df_holidays = df_holidays.rename({'index':'ds', 0:'holiday'}, axis ='columns')\n",
    "df_holidays['ds'] = pd.to_datetime(df_holidays.ds)\n",
    "df_holidays = df_holidays.sort_values(by=['ds'])\n",
    "df_holidays = df_holidays.reset_index(drop=True)\n",
    "holidays = pd.concat([df_holidays, skidki])"
   ]
  },
  {
   "cell_type": "code",
   "execution_count": null,
   "metadata": {},
   "outputs": [],
   "source": [
    "m = Prophet()\n",
    "m.fit(df)"
   ]
  },
  {
   "cell_type": "code",
   "execution_count": null,
   "metadata": {},
   "outputs": [],
   "source": [
    "forecast = m.predict(future)\n",
    "forecast[['ds', 'yhat', 'yhat_lower', 'yhat_upper']].tail()"
   ]
  },
  {
   "cell_type": "code",
   "execution_count": null,
   "metadata": {},
   "outputs": [],
   "source": [
    "m = Prophet(holidays=holidays, weekly_seasonality=True, n_changepoints = 10)\n",
    "forecast = m.fit(df).predict(future)"
   ]
  },
  {
   "cell_type": "code",
   "execution_count": null,
   "metadata": {},
   "outputs": [],
   "source": [
    "fig1 = m.plot(forecast)\n",
    "fig2 = m.plot_components(forecast)"
   ]
  },
  {
   "cell_type": "code",
   "execution_count": null,
   "metadata": {},
   "outputs": [],
   "source": [
    "cmp_df = forecast.set_index('ds')[['yhat', 'yhat_lower', 'yhat_upper']].join(df.set_index('ds'))\n",
    "cmp_df['e'] = cmp_df['y'] - cmp_df['yhat']\n",
    "cmp_df['p'] = 100*cmp_df['e']/cmp_df['y']\n",
    "print('MAPE (средняя абсолютная ошибка в процентах) – ', np.mean(abs(cmp_df[-90:]['p'])),'%')\n",
    "print('MAE (средняя абсолютная ошибка) – ', np.mean(abs(cmp_df[-90:]['e'])))"
   ]
  },
  {
   "cell_type": "markdown",
   "metadata": {},
   "source": [
    "#### Таким образом, мы смогли предсказать нашу модель сос редней ошибкой в ~4%"
   ]
  },
  {
   "cell_type": "markdown",
   "metadata": {},
   "source": [
    "#### Изобразим нашу модель с помощью plotly"
   ]
  },
  {
   "cell_type": "code",
   "execution_count": null,
   "metadata": {},
   "outputs": [],
   "source": [
    "from plotly.offline import download_plotlyjs, init_notebook_mode, plot, iplot\n",
    "import plotly.graph_objs as go\n",
    "init_notebook_mode(connected = True)\n",
    "\n",
    "iplot([\n",
    "    go.Scatter(x=df['ds'], y=df['y'], name='fact'),\n",
    "    go.Scatter(x=forecast['ds'], y=forecast['yhat'], name='prediction'),\n",
    "    go.Scatter(x=forecast['ds'], y=forecast['yhat_upper'], fill='tonexty', mode='none', name='upper'),\n",
    "    go.Scatter(x=forecast['ds'], y=forecast['yhat_lower'], fill='tonexty', mode='none', name='lower'),\n",
    "    go.Scatter(x=forecast['ds'], y=forecast['trend'], name='trend')\n",
    "])"
   ]
  },
  {
   "cell_type": "code",
   "execution_count": null,
   "metadata": {},
   "outputs": [],
   "source": []
  },
  {
   "cell_type": "code",
   "execution_count": null,
   "metadata": {},
   "outputs": [],
   "source": []
  },
  {
   "cell_type": "markdown",
   "metadata": {},
   "source": [
    "# 3-ЬЕ ЗАДАНИЕ"
   ]
  },
  {
   "cell_type": "code",
   "execution_count": 1,
   "metadata": {},
   "outputs": [],
   "source": [
    "import pandas as pd\n",
    "import numpy as np\n",
    "import pandahouse as ph\n",
    "from datetime import date"
   ]
  },
  {
   "cell_type": "code",
   "execution_count": 2,
   "metadata": {},
   "outputs": [],
   "source": [
    "# Объявляем параметры подключения к clickhouse\n",
    "connection = {'database':'project_variant_2',\n",
    "                  'host':'https://clickhouse.lab.karpov.courses',\n",
    "                  'user':'student',\n",
    "                  'password':'dpo_python_2020'}"
   ]
  },
  {
   "cell_type": "code",
   "execution_count": 3,
   "metadata": {},
   "outputs": [
    {
     "data": {
      "text/html": [
       "<div>\n",
       "<style scoped>\n",
       "    .dataframe tbody tr th:only-of-type {\n",
       "        vertical-align: middle;\n",
       "    }\n",
       "\n",
       "    .dataframe tbody tr th {\n",
       "        vertical-align: top;\n",
       "    }\n",
       "\n",
       "    .dataframe thead th {\n",
       "        text-align: right;\n",
       "    }\n",
       "</style>\n",
       "<table border=\"1\" class=\"dataframe\">\n",
       "  <thead>\n",
       "    <tr style=\"text-align: right;\">\n",
       "      <th></th>\n",
       "      <th>purchase_id</th>\n",
       "      <th>client_id</th>\n",
       "      <th>purchase_date</th>\n",
       "      <th>quantity</th>\n",
       "      <th>revenue</th>\n",
       "      <th>client_category</th>\n",
       "      <th>client_age</th>\n",
       "      <th>client_registration_age</th>\n",
       "      <th>promotion_name</th>\n",
       "      <th>category_name</th>\n",
       "      <th>partner_name</th>\n",
       "      <th>client_city</th>\n",
       "      <th>city</th>\n",
       "    </tr>\n",
       "  </thead>\n",
       "  <tbody>\n",
       "    <tr>\n",
       "      <th>0</th>\n",
       "      <td>0</td>\n",
       "      <td>853</td>\n",
       "      <td>2020-06-05</td>\n",
       "      <td>5</td>\n",
       "      <td>150</td>\n",
       "      <td>old</td>\n",
       "      <td>29</td>\n",
       "      <td>828</td>\n",
       "      <td>campaign_2</td>\n",
       "      <td>Фрукты</td>\n",
       "      <td>ООО Ширяева, Хохлова и Тимофеева</td>\n",
       "      <td>Щучинщина</td>\n",
       "      <td>Киев</td>\n",
       "    </tr>\n",
       "    <tr>\n",
       "      <th>1</th>\n",
       "      <td>0</td>\n",
       "      <td>853</td>\n",
       "      <td>2020-06-05</td>\n",
       "      <td>5</td>\n",
       "      <td>150</td>\n",
       "      <td>old</td>\n",
       "      <td>29</td>\n",
       "      <td>828</td>\n",
       "      <td>campaign_2</td>\n",
       "      <td>Фрукты</td>\n",
       "      <td>ООО Ширяева, Хохлова и Тимофеева</td>\n",
       "      <td>Москва</td>\n",
       "      <td>Киев</td>\n",
       "    </tr>\n",
       "    <tr>\n",
       "      <th>2</th>\n",
       "      <td>0</td>\n",
       "      <td>853</td>\n",
       "      <td>2020-06-05</td>\n",
       "      <td>5</td>\n",
       "      <td>150</td>\n",
       "      <td>old</td>\n",
       "      <td>29</td>\n",
       "      <td>828</td>\n",
       "      <td>campaign_2</td>\n",
       "      <td>Фрукты</td>\n",
       "      <td>ООО Ширяева, Хохлова и Тимофеева</td>\n",
       "      <td>Ярославль</td>\n",
       "      <td>Киев</td>\n",
       "    </tr>\n",
       "    <tr>\n",
       "      <th>3</th>\n",
       "      <td>0</td>\n",
       "      <td>853</td>\n",
       "      <td>2020-06-05</td>\n",
       "      <td>5</td>\n",
       "      <td>150</td>\n",
       "      <td>old</td>\n",
       "      <td>29</td>\n",
       "      <td>828</td>\n",
       "      <td>campaign_2</td>\n",
       "      <td>Фрукты</td>\n",
       "      <td>ООО Ширяева, Хохлова и Тимофеева</td>\n",
       "      <td>Санкт-Петербург</td>\n",
       "      <td>Киев</td>\n",
       "    </tr>\n",
       "    <tr>\n",
       "      <th>4</th>\n",
       "      <td>0</td>\n",
       "      <td>853</td>\n",
       "      <td>2020-06-05</td>\n",
       "      <td>5</td>\n",
       "      <td>150</td>\n",
       "      <td>old</td>\n",
       "      <td>29</td>\n",
       "      <td>828</td>\n",
       "      <td>campaign_2</td>\n",
       "      <td>Фрукты</td>\n",
       "      <td>ООО Ширяева, Хохлова и Тимофеева</td>\n",
       "      <td>Новгород</td>\n",
       "      <td>Киев</td>\n",
       "    </tr>\n",
       "    <tr>\n",
       "      <th>5</th>\n",
       "      <td>0</td>\n",
       "      <td>853</td>\n",
       "      <td>2020-06-05</td>\n",
       "      <td>5</td>\n",
       "      <td>150</td>\n",
       "      <td>old</td>\n",
       "      <td>29</td>\n",
       "      <td>828</td>\n",
       "      <td>campaign_2</td>\n",
       "      <td>Фрукты</td>\n",
       "      <td>ООО Ширяева, Хохлова и Тимофеева</td>\n",
       "      <td>Минск</td>\n",
       "      <td>Киев</td>\n",
       "    </tr>\n",
       "    <tr>\n",
       "      <th>6</th>\n",
       "      <td>0</td>\n",
       "      <td>853</td>\n",
       "      <td>2020-06-05</td>\n",
       "      <td>5</td>\n",
       "      <td>150</td>\n",
       "      <td>old</td>\n",
       "      <td>29</td>\n",
       "      <td>828</td>\n",
       "      <td>campaign_2</td>\n",
       "      <td>Фрукты</td>\n",
       "      <td>ООО Ширяева, Хохлова и Тимофеева</td>\n",
       "      <td>Киев</td>\n",
       "      <td>Киев</td>\n",
       "    </tr>\n",
       "    <tr>\n",
       "      <th>7</th>\n",
       "      <td>0</td>\n",
       "      <td>853</td>\n",
       "      <td>2020-06-05</td>\n",
       "      <td>5</td>\n",
       "      <td>150</td>\n",
       "      <td>old</td>\n",
       "      <td>29</td>\n",
       "      <td>828</td>\n",
       "      <td>campaign_2</td>\n",
       "      <td>Фрукты</td>\n",
       "      <td>ООО Ширяева, Хохлова и Тимофеева</td>\n",
       "      <td>Казань</td>\n",
       "      <td>Киев</td>\n",
       "    </tr>\n",
       "    <tr>\n",
       "      <th>8</th>\n",
       "      <td>0</td>\n",
       "      <td>853</td>\n",
       "      <td>2020-06-05</td>\n",
       "      <td>5</td>\n",
       "      <td>150</td>\n",
       "      <td>old</td>\n",
       "      <td>29</td>\n",
       "      <td>828</td>\n",
       "      <td>campaign_2</td>\n",
       "      <td>Фрукты</td>\n",
       "      <td>ООО Ширяева, Хохлова и Тимофеева</td>\n",
       "      <td>Вена</td>\n",
       "      <td>Киев</td>\n",
       "    </tr>\n",
       "    <tr>\n",
       "      <th>9</th>\n",
       "      <td>1</td>\n",
       "      <td>406</td>\n",
       "      <td>2020-06-15</td>\n",
       "      <td>5</td>\n",
       "      <td>1150</td>\n",
       "      <td>old</td>\n",
       "      <td>24</td>\n",
       "      <td>703</td>\n",
       "      <td>campaign_4</td>\n",
       "      <td>Прочее</td>\n",
       "      <td>KarpovCourses</td>\n",
       "      <td>Минск</td>\n",
       "      <td>Новгород</td>\n",
       "    </tr>\n",
       "  </tbody>\n",
       "</table>\n",
       "</div>"
      ],
      "text/plain": [
       "   purchase_id  client_id purchase_date  quantity  revenue client_category  \\\n",
       "0            0        853    2020-06-05         5      150             old   \n",
       "1            0        853    2020-06-05         5      150             old   \n",
       "2            0        853    2020-06-05         5      150             old   \n",
       "3            0        853    2020-06-05         5      150             old   \n",
       "4            0        853    2020-06-05         5      150             old   \n",
       "5            0        853    2020-06-05         5      150             old   \n",
       "6            0        853    2020-06-05         5      150             old   \n",
       "7            0        853    2020-06-05         5      150             old   \n",
       "8            0        853    2020-06-05         5      150             old   \n",
       "9            1        406    2020-06-15         5     1150             old   \n",
       "\n",
       "   client_age  client_registration_age promotion_name category_name  \\\n",
       "0          29                      828     campaign_2        Фрукты   \n",
       "1          29                      828     campaign_2        Фрукты   \n",
       "2          29                      828     campaign_2        Фрукты   \n",
       "3          29                      828     campaign_2        Фрукты   \n",
       "4          29                      828     campaign_2        Фрукты   \n",
       "5          29                      828     campaign_2        Фрукты   \n",
       "6          29                      828     campaign_2        Фрукты   \n",
       "7          29                      828     campaign_2        Фрукты   \n",
       "8          29                      828     campaign_2        Фрукты   \n",
       "9          24                      703     campaign_4        Прочее   \n",
       "\n",
       "                       partner_name      client_city      city  \n",
       "0  ООО Ширяева, Хохлова и Тимофеева        Щучинщина      Киев  \n",
       "1  ООО Ширяева, Хохлова и Тимофеева           Москва      Киев  \n",
       "2  ООО Ширяева, Хохлова и Тимофеева        Ярославль      Киев  \n",
       "3  ООО Ширяева, Хохлова и Тимофеева  Санкт-Петербург      Киев  \n",
       "4  ООО Ширяева, Хохлова и Тимофеева         Новгород      Киев  \n",
       "5  ООО Ширяева, Хохлова и Тимофеева            Минск      Киев  \n",
       "6  ООО Ширяева, Хохлова и Тимофеева             Киев      Киев  \n",
       "7  ООО Ширяева, Хохлова и Тимофеева           Казань      Киев  \n",
       "8  ООО Ширяева, Хохлова и Тимофеева             Вена      Киев  \n",
       "9                     KarpovCourses            Минск  Новгород  "
      ]
     },
     "execution_count": 3,
     "metadata": {},
     "output_type": "execute_result"
    }
   ],
   "source": [
    "# Вкидываем данные (первый столбец - даты (ds), второй - уники (y))\n",
    "query = \"\"\"\n",
    "SELECT     a.purchase_id AS purchase_id,\n",
    "           a.client_id AS client_id,\n",
    "           a.purchase_date AS purchase_date, \n",
    "           CAST(a.quantity AS Int16) AS quantity,\n",
    "           CAST(a.revenue AS Int16) AS revenue,\n",
    "           a.client_category AS client_category,\n",
    "           CAST(b.client_age AS Int16) AS client_age,\n",
    "           CAST(b.client_registration AS Int16) client_registration_age, /* в днях */\n",
    "           c.promotion_name AS promotion_name,\n",
    "           c.category_name AS category_name,\n",
    "           c.partner_name AS partner_name,\n",
    "           d.client_city AS client_city,\n",
    "           d.city AS city\n",
    "    FROM  (            \n",
    "                SELECT l.purchase_id AS purchase_id,\n",
    "                       l.client_id AS client_id,\n",
    "                       l.city_id AS city_id,\n",
    "                       l.purchase_date AS purchase_date, \n",
    "                       l.category_id AS category_id,\n",
    "                       l.quantity AS quantity,\n",
    "                       l.revenue AS revenue,\n",
    "                       r.client_category AS client_category\n",
    "                       \n",
    "                FROM   (    \n",
    "                \n",
    "                        SELECT purchase_id,\n",
    "                               client_id,\n",
    "                               city_id,\n",
    "                               promotion_id,\n",
    "                               purchase_date, \n",
    "                               category_id,\n",
    "                               quantity,\n",
    "                               price*quantity AS revenue\n",
    "                        FROM project_variant_2.purchase\n",
    "                        WHERE    (purchase_date >= '01.05.2020'\n",
    "                                   OR\n",
    "                                  purchase_date <= '01.08.2020')\n",
    "                              AND\n",
    "                                 (status == 1)\n",
    "                        ) AS l\n",
    "                JOIN    (\n",
    "                        SELECT client_id,\n",
    "                               CASE WHEN count(purchase_id) == 1\n",
    "                                    THEN 'new'\n",
    "                                    ELSE  'old' \n",
    "                               END as client_category\n",
    "                        FROM project_variant_2.purchase\n",
    "                        WHERE (purchase_date >= '01.05.2020'\n",
    "                                   OR\n",
    "                               purchase_date <= '01.08.2020')\n",
    "                            AND\n",
    "                              (status == 1)\n",
    "                        GROUP BY client_id\n",
    "                        ) AS r\n",
    "                ON l.client_id = r.client_id\n",
    "                ) AS a\n",
    "JOIN    (\n",
    "        SELECT *,\n",
    "           CASE WHEN formatDateTime(now(), '%m-%d') < formatDateTime(birth_date, '%m-%d')\n",
    "                THEN (YEAR(now()) - YEAR(birth_date)) - 1\n",
    "                ELSE  YEAR(now()) - YEAR(birth_date)\n",
    "           END as client_age,\n",
    "           \n",
    "           DateDiff(Day,registration,now()) as client_registration /* будем считать, что клиент начал пользоваться магазином, когда зарегестрировался */\n",
    "           \n",
    "        FROM project_variant_2.client\n",
    "        ) AS b\n",
    "    ON a.client_id = b.client_id\n",
    "JOIN project_variant_2.promotion AS c\n",
    "    ON a.category_id = c.category_id\n",
    "JOIN project_variant_2.city AS d\n",
    "    ON a.city_id = d.city_id \n",
    "LIMIT 10\n",
    "\"\"\"\n",
    "df = ph.read_clickhouse(query=query, connection=connection)\n",
    "df"
   ]
  },
  {
   "cell_type": "code",
   "execution_count": null,
   "metadata": {},
   "outputs": [],
   "source": []
  },
  {
   "cell_type": "code",
   "execution_count": null,
   "metadata": {},
   "outputs": [],
   "source": []
  },
  {
   "cell_type": "code",
   "execution_count": null,
   "metadata": {},
   "outputs": [],
   "source": []
  },
  {
   "cell_type": "code",
   "execution_count": null,
   "metadata": {},
   "outputs": [],
   "source": []
  },
  {
   "cell_type": "code",
   "execution_count": null,
   "metadata": {},
   "outputs": [],
   "source": []
  },
  {
   "cell_type": "code",
   "execution_count": null,
   "metadata": {},
   "outputs": [],
   "source": []
  },
  {
   "cell_type": "code",
   "execution_count": null,
   "metadata": {},
   "outputs": [],
   "source": []
  },
  {
   "cell_type": "code",
   "execution_count": null,
   "metadata": {},
   "outputs": [],
   "source": []
  },
  {
   "cell_type": "code",
   "execution_count": null,
   "metadata": {},
   "outputs": [],
   "source": []
  },
  {
   "cell_type": "code",
   "execution_count": null,
   "metadata": {},
   "outputs": [],
   "source": []
  },
  {
   "cell_type": "code",
   "execution_count": null,
   "metadata": {},
   "outputs": [],
   "source": []
  },
  {
   "cell_type": "code",
   "execution_count": null,
   "metadata": {},
   "outputs": [],
   "source": []
  },
  {
   "cell_type": "code",
   "execution_count": null,
   "metadata": {},
   "outputs": [],
   "source": []
  },
  {
   "cell_type": "code",
   "execution_count": null,
   "metadata": {},
   "outputs": [],
   "source": []
  },
  {
   "cell_type": "code",
   "execution_count": null,
   "metadata": {},
   "outputs": [],
   "source": []
  },
  {
   "cell_type": "code",
   "execution_count": null,
   "metadata": {},
   "outputs": [],
   "source": []
  },
  {
   "cell_type": "code",
   "execution_count": null,
   "metadata": {},
   "outputs": [],
   "source": []
  },
  {
   "cell_type": "code",
   "execution_count": null,
   "metadata": {},
   "outputs": [],
   "source": []
  },
  {
   "cell_type": "code",
   "execution_count": null,
   "metadata": {},
   "outputs": [],
   "source": []
  },
  {
   "cell_type": "code",
   "execution_count": null,
   "metadata": {},
   "outputs": [],
   "source": []
  },
  {
   "cell_type": "code",
   "execution_count": null,
   "metadata": {},
   "outputs": [],
   "source": []
  },
  {
   "cell_type": "code",
   "execution_count": null,
   "metadata": {},
   "outputs": [],
   "source": []
  }
 ],
 "metadata": {
  "kernelspec": {
   "display_name": "Python 3",
   "language": "python",
   "name": "python3"
  },
  "language_info": {
   "codemirror_mode": {
    "name": "ipython",
    "version": 3
   },
   "file_extension": ".py",
   "mimetype": "text/x-python",
   "name": "python",
   "nbconvert_exporter": "python",
   "pygments_lexer": "ipython3",
   "version": "3.7.3"
  }
 },
 "nbformat": 4,
 "nbformat_minor": 4
}
